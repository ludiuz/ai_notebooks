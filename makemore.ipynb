{
 "cells": [
  {
   "cell_type": "code",
   "execution_count": 1,
   "id": "20e748f5",
   "metadata": {},
   "outputs": [],
   "source": [
    "# heavely inspired by Andrej Karpathy serie Zero to Hero\n",
    "# paper: https://www.jmlr.org/papers/volume3/bengio03a/bengio03a.pdf"
   ]
  },
  {
   "cell_type": "code",
   "execution_count": 2,
   "id": "c1fe466e",
   "metadata": {},
   "outputs": [],
   "source": [
    "import numpy as np\n",
    "import torch\n",
    "import torch.nn.functional as F\n",
    "import matplotlib.pyplot as plt\n",
    "%matplotlib inline"
   ]
  },
  {
   "cell_type": "code",
   "execution_count": 3,
   "id": "118bf85c",
   "metadata": {},
   "outputs": [
    {
     "name": "stdout",
     "output_type": "stream",
     "text": [
      "Python 3.10.10\r\n"
     ]
    }
   ],
   "source": [
    "!python --version"
   ]
  },
  {
   "cell_type": "markdown",
   "id": "2ca4292d",
   "metadata": {},
   "source": [
    "### building dataset"
   ]
  },
  {
   "cell_type": "code",
   "execution_count": 93,
   "id": "672e6b8b",
   "metadata": {},
   "outputs": [],
   "source": [
    "words = open('names.txt', 'r').read().splitlines()"
   ]
  },
  {
   "cell_type": "code",
   "execution_count": 94,
   "id": "c7d6e9e2",
   "metadata": {},
   "outputs": [
    {
     "data": {
      "text/plain": [
       "[(('a', 1), (1, 'a')),\n",
       " (('b', 2), (2, 'b')),\n",
       " (('c', 3), (3, 'c')),\n",
       " (('d', 4), (4, 'd')),\n",
       " (('e', 5), (5, 'e')),\n",
       " (('f', 6), (6, 'f')),\n",
       " (('g', 7), (7, 'g')),\n",
       " (('h', 8), (8, 'h')),\n",
       " (('i', 9), (9, 'i')),\n",
       " (('j', 10), (10, 'j')),\n",
       " (('k', 11), (11, 'k')),\n",
       " (('l', 12), (12, 'l')),\n",
       " (('m', 13), (13, 'm')),\n",
       " (('n', 14), (14, 'n')),\n",
       " (('o', 15), (15, 'o')),\n",
       " (('p', 16), (16, 'p')),\n",
       " (('q', 17), (17, 'q')),\n",
       " (('r', 18), (18, 'r')),\n",
       " (('s', 19), (19, 's')),\n",
       " (('t', 20), (20, 't')),\n",
       " (('u', 21), (21, 'u')),\n",
       " (('v', 22), (22, 'v')),\n",
       " (('w', 23), (23, 'w')),\n",
       " (('x', 24), (24, 'x')),\n",
       " (('y', 25), (25, 'y')),\n",
       " (('z', 26), (26, 'z')),\n",
       " (('.', 0), (0, '.'))]"
      ]
     },
     "execution_count": 94,
     "metadata": {},
     "output_type": "execute_result"
    }
   ],
   "source": [
    "chars = sorted(list(set(''.join(words))))\n",
    "stoi = {s:i+1 for i,s in enumerate(chars)}\n",
    "stoi['.'] = 0 # add 27th character, which represent Start and End tokens\n",
    "itos = {i: s for s, i in stoi.items()}\n",
    "[(i, j) for i, j in zip(stoi.items(), itos.items())]"
   ]
  },
  {
   "cell_type": "code",
   "execution_count": 102,
   "id": "bdd80783",
   "metadata": {},
   "outputs": [
    {
     "name": "stdout",
     "output_type": "stream",
     "text": [
      "emma\n",
      "... ---> e\n",
      "..e ---> m\n",
      ".em ---> m\n",
      "emm ---> a\n",
      "mma ---> .\n",
      "==========\n",
      "olivia\n",
      "... ---> o\n",
      "..o ---> l\n",
      ".ol ---> i\n",
      "oli ---> v\n",
      "liv ---> i\n",
      "ivi ---> a\n",
      "via ---> .\n",
      "==========\n",
      "ava\n",
      "... ---> a\n",
      "..a ---> v\n",
      ".av ---> a\n",
      "ava ---> .\n",
      "==========\n",
      "isabella\n",
      "... ---> i\n",
      "..i ---> s\n",
      ".is ---> a\n",
      "isa ---> b\n",
      "sab ---> e\n",
      "abe ---> l\n",
      "bel ---> l\n",
      "ell ---> a\n",
      "lla ---> .\n",
      "==========\n"
     ]
    }
   ],
   "source": [
    "# size of 'window' of chars from word\n",
    "# every iteration the 'window' moves by one char\n",
    "block_size = 3\n",
    "X = [] # sequence (ex: '...' or 'emm')\n",
    "Y = [] # chars from word\n",
    "for w in words[:4]:\n",
    "    print(w)\n",
    "    context = [0] * block_size # create first empty block of chars (0 'cause it is '.' char)\n",
    "    for ch in w + '.':\n",
    "        ix = stoi[ch]\n",
    "        X.append(context)\n",
    "        Y.append(ix)\n",
    "        print(''.join(itos[i] for i in context), '--->', ch) # 'ch' or itos[ix]\n",
    "        context = context[1:] + [ix]\n",
    "    print(\"=\"*10)\n",
    "# new dataset\n",
    "X = torch.LongTensor(X)\n",
    "Y = torch.Tensor(Y)"
   ]
  },
  {
   "cell_type": "code",
   "execution_count": 103,
   "id": "5f6ba422",
   "metadata": {},
   "outputs": [
    {
     "data": {
      "text/plain": [
       "(torch.Size([25, 3]), torch.int64, torch.Size([25]), torch.float32)"
      ]
     },
     "execution_count": 103,
     "metadata": {},
     "output_type": "execute_result"
    }
   ],
   "source": [
    "X.shape, X.dtype, Y.shape, Y.dtype"
   ]
  },
  {
   "cell_type": "code",
   "execution_count": 104,
   "id": "610294f7",
   "metadata": {},
   "outputs": [
    {
     "data": {
      "text/plain": [
       "(tensor([[ 0,  0,  0],\n",
       "         [ 0,  0,  5],\n",
       "         [ 0,  5, 13],\n",
       "         [ 5, 13, 13]]),\n",
       " [['.', '.', '.'],\n",
       "  ['.', '.', 'e'],\n",
       "  ['.', 'e', 'm'],\n",
       "  ['e', 'm', 'm'],\n",
       "  ['m', 'm', 'a']])"
      ]
     },
     "execution_count": 104,
     "metadata": {},
     "output_type": "execute_result"
    }
   ],
   "source": [
    "X[:4], [([itos[int(j)] for j in i]) for i in X[:5]]"
   ]
  },
  {
   "cell_type": "code",
   "execution_count": 105,
   "id": "595b05cb",
   "metadata": {},
   "outputs": [
    {
     "data": {
      "text/plain": [
       "(tensor([ 5., 13., 13.,  1.,  0.]), ['e', 'm', 'm', 'a', '.'])"
      ]
     },
     "execution_count": 105,
     "metadata": {},
     "output_type": "execute_result"
    }
   ],
   "source": [
    "Y[:5], [itos[int(i)] for i in Y[:5]]"
   ]
  },
  {
   "cell_type": "code",
   "execution_count": 106,
   "id": "fcc11d9a",
   "metadata": {},
   "outputs": [],
   "source": [
    "C = torch.randn((27, 2))"
   ]
  },
  {
   "cell_type": "code",
   "execution_count": 107,
   "id": "db18109e",
   "metadata": {},
   "outputs": [
    {
     "data": {
      "text/plain": [
       "(tensor([[-1.3848, -1.0270],\n",
       "         [-0.5578, -1.8801],\n",
       "         [-2.3347, -0.5463],\n",
       "         [-0.5198, -1.1513]]),\n",
       " tensor([0.5509, 0.1807]),\n",
       " tensor([[-0.5578, -1.8801],\n",
       "         [-2.3347, -0.5463],\n",
       "         [ 1.2513,  0.4893],\n",
       "         [ 1.2513,  0.4893]]))"
      ]
     },
     "execution_count": 107,
     "metadata": {},
     "output_type": "execute_result"
    }
   ],
   "source": [
    "C[:4], C[5], C[[1, 2, 6, 6]] # multi dim indexing"
   ]
  },
  {
   "cell_type": "code",
   "execution_count": 109,
   "id": "6b6c61f4",
   "metadata": {},
   "outputs": [
    {
     "data": {
      "text/plain": [
       "tensor([[[-1.3848, -1.0270],\n",
       "         [-1.3848, -1.0270],\n",
       "         [-1.3848, -1.0270]],\n",
       "\n",
       "        [[-1.3848, -1.0270],\n",
       "         [-1.3848, -1.0270],\n",
       "         [ 0.5509,  0.1807]],\n",
       "\n",
       "        [[-1.3848, -1.0270],\n",
       "         [ 0.5509,  0.1807],\n",
       "         [ 1.1020, -1.6985]],\n",
       "\n",
       "        [[ 0.5509,  0.1807],\n",
       "         [ 1.1020, -1.6985],\n",
       "         [ 1.1020, -1.6985]],\n",
       "\n",
       "        [[ 1.1020, -1.6985],\n",
       "         [ 1.1020, -1.6985],\n",
       "         [-0.5578, -1.8801]],\n",
       "\n",
       "        [[-1.3848, -1.0270],\n",
       "         [-1.3848, -1.0270],\n",
       "         [-1.3848, -1.0270]],\n",
       "\n",
       "        [[-1.3848, -1.0270],\n",
       "         [-1.3848, -1.0270],\n",
       "         [ 1.0739,  0.3573]],\n",
       "\n",
       "        [[-1.3848, -1.0270],\n",
       "         [ 1.0739,  0.3573],\n",
       "         [-0.7477,  1.1902]],\n",
       "\n",
       "        [[ 1.0739,  0.3573],\n",
       "         [-0.7477,  1.1902],\n",
       "         [-0.0855, -1.3304]],\n",
       "\n",
       "        [[-0.7477,  1.1902],\n",
       "         [-0.0855, -1.3304],\n",
       "         [ 0.4757,  0.5514]],\n",
       "\n",
       "        [[-0.0855, -1.3304],\n",
       "         [ 0.4757,  0.5514],\n",
       "         [-0.0855, -1.3304]],\n",
       "\n",
       "        [[ 0.4757,  0.5514],\n",
       "         [-0.0855, -1.3304],\n",
       "         [-0.5578, -1.8801]],\n",
       "\n",
       "        [[-1.3848, -1.0270],\n",
       "         [-1.3848, -1.0270],\n",
       "         [-1.3848, -1.0270]],\n",
       "\n",
       "        [[-1.3848, -1.0270],\n",
       "         [-1.3848, -1.0270],\n",
       "         [-0.5578, -1.8801]],\n",
       "\n",
       "        [[-1.3848, -1.0270],\n",
       "         [-0.5578, -1.8801],\n",
       "         [ 0.4757,  0.5514]],\n",
       "\n",
       "        [[-0.5578, -1.8801],\n",
       "         [ 0.4757,  0.5514],\n",
       "         [-0.5578, -1.8801]],\n",
       "\n",
       "        [[-1.3848, -1.0270],\n",
       "         [-1.3848, -1.0270],\n",
       "         [-1.3848, -1.0270]],\n",
       "\n",
       "        [[-1.3848, -1.0270],\n",
       "         [-1.3848, -1.0270],\n",
       "         [-0.0855, -1.3304]],\n",
       "\n",
       "        [[-1.3848, -1.0270],\n",
       "         [-0.0855, -1.3304],\n",
       "         [ 1.2201,  0.5761]],\n",
       "\n",
       "        [[-0.0855, -1.3304],\n",
       "         [ 1.2201,  0.5761],\n",
       "         [-0.5578, -1.8801]],\n",
       "\n",
       "        [[ 1.2201,  0.5761],\n",
       "         [-0.5578, -1.8801],\n",
       "         [-2.3347, -0.5463]],\n",
       "\n",
       "        [[-0.5578, -1.8801],\n",
       "         [-2.3347, -0.5463],\n",
       "         [ 0.5509,  0.1807]],\n",
       "\n",
       "        [[-2.3347, -0.5463],\n",
       "         [ 0.5509,  0.1807],\n",
       "         [-0.7477,  1.1902]],\n",
       "\n",
       "        [[ 0.5509,  0.1807],\n",
       "         [-0.7477,  1.1902],\n",
       "         [-0.7477,  1.1902]],\n",
       "\n",
       "        [[-0.7477,  1.1902],\n",
       "         [-0.7477,  1.1902],\n",
       "         [-0.5578, -1.8801]]])"
      ]
     },
     "execution_count": 109,
     "metadata": {},
     "output_type": "execute_result"
    }
   ],
   "source": [
    "emb = C[X] # embedding\n",
    "emb"
   ]
  },
  {
   "cell_type": "code",
   "execution_count": null,
   "id": "5c9e9313",
   "metadata": {},
   "outputs": [],
   "source": []
  },
  {
   "cell_type": "code",
   "execution_count": null,
   "id": "d6f00d3e",
   "metadata": {},
   "outputs": [],
   "source": []
  }
 ],
 "metadata": {
  "kernelspec": {
   "display_name": "Python 3 (ipykernel)",
   "language": "python",
   "name": "python3"
  },
  "language_info": {
   "codemirror_mode": {
    "name": "ipython",
    "version": 3
   },
   "file_extension": ".py",
   "mimetype": "text/x-python",
   "name": "python",
   "nbconvert_exporter": "python",
   "pygments_lexer": "ipython3",
   "version": "3.10.10"
  }
 },
 "nbformat": 4,
 "nbformat_minor": 5
}
